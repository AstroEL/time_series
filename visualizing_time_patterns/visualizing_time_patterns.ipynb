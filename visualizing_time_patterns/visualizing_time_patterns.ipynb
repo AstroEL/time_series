{
 "cells": [
  {
   "cell_type": "markdown",
   "metadata": {},
   "source": [
    "# Analyzing Time Series Patterns in the S&P 500 Index\n",
    "\n",
    "In this activity you we gain some additional practice working with the hvPlot grouped plots."
   ]
  },
  {
   "cell_type": "markdown",
   "metadata": {},
   "source": [
    "### Import Libraries and Dependencies"
   ]
  },
  {
   "cell_type": "code",
   "execution_count": 10,
   "metadata": {},
   "outputs": [],
   "source": [
    "# Import necessary libraries and dependencies\n",
    "import numpy as np\n",
    "import pandas as pd\n",
    "import hvplot.pandas\n",
    "from pathlib import Path"
   ]
  },
  {
   "cell_type": "markdown",
   "metadata": {},
   "source": [
    "## 1. Read the S&P 500 volume into a DataFrame. (Make sure to declare the datetime index)."
   ]
  },
  {
   "cell_type": "code",
   "execution_count": 11,
   "metadata": {},
   "outputs": [
    {
     "data": {
      "text/html": [
       "<div>\n",
       "<style scoped>\n",
       "    .dataframe tbody tr th:only-of-type {\n",
       "        vertical-align: middle;\n",
       "    }\n",
       "\n",
       "    .dataframe tbody tr th {\n",
       "        vertical-align: top;\n",
       "    }\n",
       "\n",
       "    .dataframe thead th {\n",
       "        text-align: right;\n",
       "    }\n",
       "</style>\n",
       "<table border=\"1\" class=\"dataframe\">\n",
       "  <thead>\n",
       "    <tr style=\"text-align: right;\">\n",
       "      <th></th>\n",
       "      <th>close</th>\n",
       "      <th>volume</th>\n",
       "    </tr>\n",
       "    <tr>\n",
       "      <th>Date</th>\n",
       "      <th></th>\n",
       "      <th></th>\n",
       "    </tr>\n",
       "  </thead>\n",
       "  <tbody>\n",
       "    <tr>\n",
       "      <th>2020-03-12 08:00:00</th>\n",
       "      <td>258.60</td>\n",
       "      <td>229683</td>\n",
       "    </tr>\n",
       "    <tr>\n",
       "      <th>2020-03-12 09:00:00</th>\n",
       "      <td>257.76</td>\n",
       "      <td>457488</td>\n",
       "    </tr>\n",
       "    <tr>\n",
       "      <th>2020-03-12 10:00:00</th>\n",
       "      <td>252.81</td>\n",
       "      <td>291881</td>\n",
       "    </tr>\n",
       "    <tr>\n",
       "      <th>2020-03-12 11:00:00</th>\n",
       "      <td>259.99</td>\n",
       "      <td>353484</td>\n",
       "    </tr>\n",
       "    <tr>\n",
       "      <th>2020-03-12 12:00:00</th>\n",
       "      <td>257.12</td>\n",
       "      <td>520699</td>\n",
       "    </tr>\n",
       "  </tbody>\n",
       "</table>\n",
       "</div>"
      ],
      "text/plain": [
       "                      close  volume\n",
       "Date                               \n",
       "2020-03-12 08:00:00  258.60  229683\n",
       "2020-03-12 09:00:00  257.76  457488\n",
       "2020-03-12 10:00:00  252.81  291881\n",
       "2020-03-12 11:00:00  259.99  353484\n",
       "2020-03-12 12:00:00  257.12  520699"
      ]
     },
     "execution_count": 11,
     "metadata": {},
     "output_type": "execute_result"
    }
   ],
   "source": [
    "# Import data\n",
    "sp500_path = Path('sp500_stock_volume.csv')\n",
    "\n",
    "# Read the S&P 500 volume into a DataFrame. (Make sure to declare the datetime index).\n",
    "sp500_data = pd.read_csv(\n",
    "    sp500_path, \n",
    "    index_col='Date',     \n",
    "    parse_dates=True, \n",
    "    infer_datetime_format=True\n",
    ")\n",
    "\n",
    "# Display sample data\n",
    "sp500_data.head()"
   ]
  },
  {
   "cell_type": "markdown",
   "metadata": {},
   "source": [
    "## 2. Slice the dataframe so that it just includes the volume data."
   ]
  },
  {
   "cell_type": "code",
   "execution_count": 12,
   "metadata": {},
   "outputs": [],
   "source": [
    "# Slice the dataframe so that it just includes the volume data.\n",
    "sp500_volume = sp500_data['volume']"
   ]
  },
  {
   "cell_type": "markdown",
   "metadata": {},
   "source": [
    "## 3. Using hvPlot, plot the volume data according to the day of the week."
   ]
  },
  {
   "cell_type": "code",
   "execution_count": 13,
   "metadata": {},
   "outputs": [
    {
     "data": {},
     "metadata": {},
     "output_type": "display_data"
    },
    {
     "data": {
      "application/vnd.holoviews_exec.v0+json": "",
      "text/html": [
       "<div id='1368'>\n",
       "\n",
       "\n",
       "\n",
       "\n",
       "\n",
       "  <div class=\"bk-root\" id=\"c4cb8fc4-eedc-4e53-9e06-9e23889ba144\" data-root-id=\"1368\"></div>\n",
       "</div>\n",
       "<script type=\"application/javascript\">(function(root) {\n",
       "  function embed_document(root) {\n",
       "    var docs_json = {\"bab55d43-8ea3-49d5-a43c-aac27648e0ab\":{\"defs\":[{\"extends\":null,\"module\":null,\"name\":\"ReactiveHTML1\",\"overrides\":[],\"properties\":[]},{\"extends\":null,\"module\":null,\"name\":\"FlexBox1\",\"overrides\":[],\"properties\":[{\"default\":\"flex-start\",\"kind\":null,\"name\":\"align_content\"},{\"default\":\"flex-start\",\"kind\":null,\"name\":\"align_items\"},{\"default\":\"row\",\"kind\":null,\"name\":\"flex_direction\"},{\"default\":\"wrap\",\"kind\":null,\"name\":\"flex_wrap\"},{\"default\":\"flex-start\",\"kind\":null,\"name\":\"justify_content\"}]},{\"extends\":null,\"module\":null,\"name\":\"GridStack1\",\"overrides\":[],\"properties\":[{\"default\":\"warn\",\"kind\":null,\"name\":\"mode\"},{\"default\":null,\"kind\":null,\"name\":\"ncols\"},{\"default\":null,\"kind\":null,\"name\":\"nrows\"},{\"default\":true,\"kind\":null,\"name\":\"allow_resize\"},{\"default\":true,\"kind\":null,\"name\":\"allow_drag\"},{\"default\":[],\"kind\":null,\"name\":\"state\"}]},{\"extends\":null,\"module\":null,\"name\":\"click1\",\"overrides\":[],\"properties\":[{\"default\":\"\",\"kind\":null,\"name\":\"terminal_output\"},{\"default\":\"\",\"kind\":null,\"name\":\"debug_name\"},{\"default\":0,\"kind\":null,\"name\":\"clears\"}]},{\"extends\":null,\"module\":null,\"name\":\"TemplateActions1\",\"overrides\":[],\"properties\":[{\"default\":0,\"kind\":null,\"name\":\"open_modal\"},{\"default\":0,\"kind\":null,\"name\":\"close_modal\"}]},{\"extends\":null,\"module\":null,\"name\":\"MaterialTemplateActions1\",\"overrides\":[],\"properties\":[{\"default\":0,\"kind\":null,\"name\":\"open_modal\"},{\"default\":0,\"kind\":null,\"name\":\"close_modal\"}]}],\"roots\":{\"references\":[{\"attributes\":{},\"id\":\"1417\",\"type\":\"AllLabels\"},{\"attributes\":{\"callback\":null,\"renderers\":[{\"id\":\"1409\"}],\"tags\":[\"hv_created\"],\"tooltips\":[[\"Date\",\"@{Date}\"],[\"volume\",\"@{volume}\"]]},\"id\":\"1372\",\"type\":\"HoverTool\"},{\"attributes\":{},\"id\":\"1380\",\"type\":\"LinearScale\"},{\"attributes\":{},\"id\":\"1425\",\"type\":\"UnionRenderers\"},{\"attributes\":{},\"id\":\"1414\",\"type\":\"AllLabels\"},{\"attributes\":{\"axis\":{\"id\":\"1382\"},\"coordinates\":null,\"grid_line_color\":null,\"group\":null,\"ticker\":null},\"id\":\"1385\",\"type\":\"Grid\"},{\"attributes\":{\"margin\":[5,5,5,5],\"name\":\"HSpacer02161\",\"sizing_mode\":\"stretch_width\"},\"id\":\"1369\",\"type\":\"Spacer\"},{\"attributes\":{\"coordinates\":null,\"group\":null,\"text\":\"volume\",\"text_color\":\"black\",\"text_font_size\":\"12pt\"},\"id\":\"1374\",\"type\":\"Title\"},{\"attributes\":{\"children\":[{\"id\":\"1369\"},{\"id\":\"1373\"},{\"id\":\"1438\"}],\"margin\":[0,0,0,0],\"name\":\"Row02157\",\"tags\":[\"embedded\"]},\"id\":\"1368\",\"type\":\"Row\"},{\"attributes\":{},\"id\":\"1383\",\"type\":\"BasicTicker\"},{\"attributes\":{\"axis_label\":\"Date\",\"coordinates\":null,\"formatter\":{\"id\":\"1413\"},\"group\":null,\"major_label_policy\":{\"id\":\"1414\"},\"ticker\":{\"id\":\"1383\"}},\"id\":\"1382\",\"type\":\"LinearAxis\"},{\"attributes\":{\"axis\":{\"id\":\"1386\"},\"coordinates\":null,\"dimension\":1,\"grid_line_color\":null,\"group\":null,\"ticker\":null},\"id\":\"1389\",\"type\":\"Grid\"},{\"attributes\":{},\"id\":\"1391\",\"type\":\"PanTool\"},{\"attributes\":{\"axis_label\":\"\",\"coordinates\":null,\"formatter\":{\"id\":\"1416\"},\"group\":null,\"major_label_policy\":{\"id\":\"1417\"},\"ticker\":{\"id\":\"1387\"}},\"id\":\"1386\",\"type\":\"LinearAxis\"},{\"attributes\":{\"margin\":[5,5,5,5],\"name\":\"HSpacer02162\",\"sizing_mode\":\"stretch_width\"},\"id\":\"1438\",\"type\":\"Spacer\"},{\"attributes\":{},\"id\":\"1387\",\"type\":\"BasicTicker\"},{\"attributes\":{},\"id\":\"1392\",\"type\":\"WheelZoomTool\"},{\"attributes\":{\"end\":99652.59998508214,\"reset_end\":99652.59998508214,\"reset_start\":84643.9277714584,\"start\":84643.9277714584,\"tags\":[[[\"volume\",\"volume\",null]]]},\"id\":\"1371\",\"type\":\"Range1d\"},{\"attributes\":{},\"id\":\"1390\",\"type\":\"SaveTool\"},{\"attributes\":{\"overlay\":{\"id\":\"1395\"}},\"id\":\"1393\",\"type\":\"BoxZoomTool\"},{\"attributes\":{\"coordinates\":null,\"data_source\":{\"id\":\"1403\"},\"glyph\":{\"id\":\"1406\"},\"group\":null,\"hover_glyph\":null,\"muted_glyph\":{\"id\":\"1408\"},\"nonselection_glyph\":{\"id\":\"1407\"},\"selection_glyph\":{\"id\":\"1411\"},\"view\":{\"id\":\"1410\"}},\"id\":\"1409\",\"type\":\"GlyphRenderer\"},{\"attributes\":{},\"id\":\"1394\",\"type\":\"ResetTool\"},{\"attributes\":{\"line_color\":\"#30a2da\",\"line_width\":2,\"x\":{\"field\":\"Date\"},\"y\":{\"field\":\"volume\"}},\"id\":\"1411\",\"type\":\"Line\"},{\"attributes\":{\"bottom_units\":\"screen\",\"coordinates\":null,\"fill_alpha\":0.5,\"fill_color\":\"lightgrey\",\"group\":null,\"left_units\":\"screen\",\"level\":\"overlay\",\"line_alpha\":1.0,\"line_color\":\"black\",\"line_dash\":[4,4],\"line_width\":2,\"right_units\":\"screen\",\"syncable\":false,\"top_units\":\"screen\"},\"id\":\"1395\",\"type\":\"BoxAnnotation\"},{\"attributes\":{},\"id\":\"1404\",\"type\":\"Selection\"},{\"attributes\":{},\"id\":\"1413\",\"type\":\"BasicTickFormatter\"},{\"attributes\":{\"tools\":[{\"id\":\"1372\"},{\"id\":\"1390\"},{\"id\":\"1391\"},{\"id\":\"1392\"},{\"id\":\"1393\"},{\"id\":\"1394\"}]},\"id\":\"1396\",\"type\":\"Toolbar\"},{\"attributes\":{\"line_color\":\"#30a2da\",\"line_width\":2,\"x\":{\"field\":\"Date\"},\"y\":{\"field\":\"volume\"}},\"id\":\"1406\",\"type\":\"Line\"},{\"attributes\":{\"data\":{\"Date\":[0,1,2,3,4],\"volume\":{\"__ndarray__\":\"7Md+7Ac39UBjeURoavj0QJQyxwD3K/ZAPF5sCR4G+EDO+xSXPDP3QA==\",\"dtype\":\"float64\",\"order\":\"little\",\"shape\":[5]}},\"selected\":{\"id\":\"1404\"},\"selection_policy\":{\"id\":\"1425\"}},\"id\":\"1403\",\"type\":\"ColumnDataSource\"},{\"attributes\":{},\"id\":\"1416\",\"type\":\"BasicTickFormatter\"},{\"attributes\":{\"line_alpha\":0.1,\"line_color\":\"#30a2da\",\"line_width\":2,\"x\":{\"field\":\"Date\"},\"y\":{\"field\":\"volume\"}},\"id\":\"1407\",\"type\":\"Line\"},{\"attributes\":{\"end\":4.0,\"reset_end\":4.0,\"reset_start\":0.0,\"tags\":[[[\"Date\",\"Date\",null]]]},\"id\":\"1370\",\"type\":\"Range1d\"},{\"attributes\":{\"line_alpha\":0.2,\"line_color\":\"#30a2da\",\"line_width\":2,\"x\":{\"field\":\"Date\"},\"y\":{\"field\":\"volume\"}},\"id\":\"1408\",\"type\":\"Line\"},{\"attributes\":{\"source\":{\"id\":\"1403\"}},\"id\":\"1410\",\"type\":\"CDSView\"},{\"attributes\":{},\"id\":\"1378\",\"type\":\"LinearScale\"},{\"attributes\":{\"below\":[{\"id\":\"1382\"}],\"center\":[{\"id\":\"1385\"},{\"id\":\"1389\"}],\"height\":300,\"left\":[{\"id\":\"1386\"}],\"margin\":[5,5,5,5],\"min_border_bottom\":10,\"min_border_left\":10,\"min_border_right\":10,\"min_border_top\":10,\"renderers\":[{\"id\":\"1409\"}],\"sizing_mode\":\"fixed\",\"title\":{\"id\":\"1374\"},\"toolbar\":{\"id\":\"1396\"},\"width\":700,\"x_range\":{\"id\":\"1370\"},\"x_scale\":{\"id\":\"1378\"},\"y_range\":{\"id\":\"1371\"},\"y_scale\":{\"id\":\"1380\"}},\"id\":\"1373\",\"subtype\":\"Figure\",\"type\":\"Plot\"}],\"root_ids\":[\"1368\"]},\"title\":\"Bokeh Application\",\"version\":\"2.4.2\"}};\n",
       "    var render_items = [{\"docid\":\"bab55d43-8ea3-49d5-a43c-aac27648e0ab\",\"root_ids\":[\"1368\"],\"roots\":{\"1368\":\"c4cb8fc4-eedc-4e53-9e06-9e23889ba144\"}}];\n",
       "    root.Bokeh.embed.embed_items_notebook(docs_json, render_items);\n",
       "  }\n",
       "  if (root.Bokeh !== undefined && root.Bokeh.Panel !== undefined) {\n",
       "    embed_document(root);\n",
       "  } else {\n",
       "    var attempts = 0;\n",
       "    var timer = setInterval(function(root) {\n",
       "      if (root.Bokeh !== undefined && root.Bokeh.Panel !== undefined) {\n",
       "        clearInterval(timer);\n",
       "        embed_document(root);\n",
       "      } else if (document.readyState == \"complete\") {\n",
       "        attempts++;\n",
       "        if (attempts > 200) {\n",
       "          clearInterval(timer);\n",
       "          console.log(\"Bokeh: ERROR: Unable to run BokehJS code because BokehJS library is missing\");\n",
       "        }\n",
       "      }\n",
       "    }, 25, root)\n",
       "  }\n",
       "})(window);</script>"
      ],
      "text/plain": [
       ":Curve   [Date]   (volume)"
      ]
     },
     "execution_count": 13,
     "metadata": {
      "application/vnd.holoviews_exec.v0+json": {
       "id": "1368"
      }
     },
     "output_type": "execute_result"
    }
   ],
   "source": [
    "# Declare the group level to be the day of the week (e.g., Mon, Tues,...)\n",
    "group_level = sp500_volume.index.dayofweek\n",
    "\n",
    "# Plot average daily volume according to day of the week\n",
    "sp500_volume.groupby(group_level).mean().hvplot()"
   ]
  },
  {
   "cell_type": "markdown",
   "metadata": {},
   "source": [
    "## 4. Use hvPlot to visualize hourly trends for each day of the week in the form of a heatmap. "
   ]
  },
  {
   "cell_type": "code",
   "execution_count": 14,
   "metadata": {},
   "outputs": [
    {
     "data": {},
     "metadata": {},
     "output_type": "display_data"
    },
    {
     "data": {
      "application/vnd.holoviews_exec.v0+json": "",
      "text/html": [
       "<div id='1490'>\n",
       "\n",
       "\n",
       "\n",
       "\n",
       "\n",
       "  <div class=\"bk-root\" id=\"9a70136a-d452-42e8-9cea-032a76f7cc74\" data-root-id=\"1490\"></div>\n",
       "</div>\n",
       "<script type=\"application/javascript\">(function(root) {\n",
       "  function embed_document(root) {\n",
       "    var docs_json = {\"5348a282-665b-42f2-954e-bc9d84a65ef9\":{\"defs\":[{\"extends\":null,\"module\":null,\"name\":\"ReactiveHTML1\",\"overrides\":[],\"properties\":[]},{\"extends\":null,\"module\":null,\"name\":\"FlexBox1\",\"overrides\":[],\"properties\":[{\"default\":\"flex-start\",\"kind\":null,\"name\":\"align_content\"},{\"default\":\"flex-start\",\"kind\":null,\"name\":\"align_items\"},{\"default\":\"row\",\"kind\":null,\"name\":\"flex_direction\"},{\"default\":\"wrap\",\"kind\":null,\"name\":\"flex_wrap\"},{\"default\":\"flex-start\",\"kind\":null,\"name\":\"justify_content\"}]},{\"extends\":null,\"module\":null,\"name\":\"GridStack1\",\"overrides\":[],\"properties\":[{\"default\":\"warn\",\"kind\":null,\"name\":\"mode\"},{\"default\":null,\"kind\":null,\"name\":\"ncols\"},{\"default\":null,\"kind\":null,\"name\":\"nrows\"},{\"default\":true,\"kind\":null,\"name\":\"allow_resize\"},{\"default\":true,\"kind\":null,\"name\":\"allow_drag\"},{\"default\":[],\"kind\":null,\"name\":\"state\"}]},{\"extends\":null,\"module\":null,\"name\":\"click1\",\"overrides\":[],\"properties\":[{\"default\":\"\",\"kind\":null,\"name\":\"terminal_output\"},{\"default\":\"\",\"kind\":null,\"name\":\"debug_name\"},{\"default\":0,\"kind\":null,\"name\":\"clears\"}]},{\"extends\":null,\"module\":null,\"name\":\"TemplateActions1\",\"overrides\":[],\"properties\":[{\"default\":0,\"kind\":null,\"name\":\"open_modal\"},{\"default\":0,\"kind\":null,\"name\":\"close_modal\"}]},{\"extends\":null,\"module\":null,\"name\":\"MaterialTemplateActions1\",\"overrides\":[],\"properties\":[{\"default\":0,\"kind\":null,\"name\":\"open_modal\"},{\"default\":0,\"kind\":null,\"name\":\"close_modal\"}]}],\"roots\":{\"references\":[{\"attributes\":{\"axis\":{\"id\":\"1504\"},\"coordinates\":null,\"grid_line_color\":null,\"group\":null,\"ticker\":null},\"id\":\"1507\",\"type\":\"Grid\"},{\"attributes\":{\"high\":191953.9534883721,\"low\":51731.97872340425,\"nan_color\":\"white\",\"palette\":[\"#fff5f0\",\"#fff4ef\",\"#fff4ee\",\"#fff3ed\",\"#fff2ec\",\"#fff2eb\",\"#fff1ea\",\"#fff0e9\",\"#fff0e8\",\"#ffefe8\",\"#ffeee7\",\"#ffeee6\",\"#ffede5\",\"#ffece4\",\"#ffece3\",\"#ffebe2\",\"#feeae1\",\"#feeae0\",\"#fee9df\",\"#fee8de\",\"#fee8dd\",\"#fee7dc\",\"#fee7db\",\"#fee6da\",\"#fee5d9\",\"#fee5d8\",\"#fee4d8\",\"#fee3d7\",\"#fee3d6\",\"#fee2d5\",\"#fee1d4\",\"#fee1d3\",\"#fee0d2\",\"#fedfd0\",\"#fedecf\",\"#fedccd\",\"#fedbcc\",\"#fedaca\",\"#fed9c9\",\"#fed8c7\",\"#fdd7c6\",\"#fdd5c4\",\"#fdd4c2\",\"#fdd3c1\",\"#fdd2bf\",\"#fdd1be\",\"#fdd0bc\",\"#fdcebb\",\"#fdcdb9\",\"#fdccb8\",\"#fdcbb6\",\"#fdcab5\",\"#fdc9b3\",\"#fdc7b2\",\"#fdc6b0\",\"#fdc5ae\",\"#fcc4ad\",\"#fcc3ab\",\"#fcc2aa\",\"#fcc1a8\",\"#fcbfa7\",\"#fcbea5\",\"#fcbda4\",\"#fcbca2\",\"#fcbba1\",\"#fcb99f\",\"#fcb89e\",\"#fcb79c\",\"#fcb69b\",\"#fcb499\",\"#fcb398\",\"#fcb296\",\"#fcb095\",\"#fcaf93\",\"#fcae92\",\"#fcad90\",\"#fcab8f\",\"#fcaa8d\",\"#fca98c\",\"#fca78b\",\"#fca689\",\"#fca588\",\"#fca486\",\"#fca285\",\"#fca183\",\"#fca082\",\"#fc9e80\",\"#fc9d7f\",\"#fc9c7d\",\"#fc9b7c\",\"#fc997a\",\"#fc9879\",\"#fc9777\",\"#fc9576\",\"#fc9474\",\"#fc9373\",\"#fc9272\",\"#fc9070\",\"#fc8f6f\",\"#fc8e6e\",\"#fc8d6d\",\"#fc8b6b\",\"#fc8a6a\",\"#fc8969\",\"#fc8767\",\"#fc8666\",\"#fc8565\",\"#fc8464\",\"#fc8262\",\"#fc8161\",\"#fc8060\",\"#fc7f5f\",\"#fb7d5d\",\"#fb7c5c\",\"#fb7b5b\",\"#fb7a5a\",\"#fb7858\",\"#fb7757\",\"#fb7656\",\"#fb7555\",\"#fb7353\",\"#fb7252\",\"#fb7151\",\"#fb7050\",\"#fb6e4e\",\"#fb6d4d\",\"#fb6c4c\",\"#fb6b4b\",\"#fb694a\",\"#fa6849\",\"#fa6648\",\"#fa6547\",\"#f96346\",\"#f96245\",\"#f96044\",\"#f85f43\",\"#f85d42\",\"#f75c41\",\"#f75b40\",\"#f7593f\",\"#f6583e\",\"#f6563d\",\"#f6553c\",\"#f5533b\",\"#f5523a\",\"#f4503a\",\"#f44f39\",\"#f44d38\",\"#f34c37\",\"#f34a36\",\"#f34935\",\"#f24734\",\"#f24633\",\"#f14432\",\"#f14331\",\"#f14130\",\"#f0402f\",\"#f03f2e\",\"#f03d2d\",\"#ef3c2c\",\"#ee3a2c\",\"#ed392b\",\"#ec382b\",\"#eb372a\",\"#ea362a\",\"#e93529\",\"#e83429\",\"#e63328\",\"#e53228\",\"#e43027\",\"#e32f27\",\"#e22e27\",\"#e12d26\",\"#e02c26\",\"#de2b25\",\"#dd2a25\",\"#dc2924\",\"#db2824\",\"#da2723\",\"#d92523\",\"#d82422\",\"#d72322\",\"#d52221\",\"#d42121\",\"#d32020\",\"#d21f20\",\"#d11e1f\",\"#d01d1f\",\"#cf1c1f\",\"#ce1a1e\",\"#cc191e\",\"#cb181d\",\"#ca181d\",\"#c9181d\",\"#c8171c\",\"#c7171c\",\"#c5171c\",\"#c4161c\",\"#c3161b\",\"#c2161b\",\"#c1161b\",\"#bf151b\",\"#be151a\",\"#bd151a\",\"#bc141a\",\"#bb141a\",\"#b91419\",\"#b81419\",\"#b71319\",\"#b61319\",\"#b51318\",\"#b31218\",\"#b21218\",\"#b11218\",\"#b01217\",\"#af1117\",\"#ad1117\",\"#ac1117\",\"#ab1016\",\"#aa1016\",\"#a91016\",\"#a81016\",\"#a60f15\",\"#a50f15\",\"#a30f15\",\"#a10e15\",\"#9f0e14\",\"#9d0d14\",\"#9c0d14\",\"#9a0c14\",\"#980c13\",\"#960b13\",\"#940b13\",\"#920a13\",\"#900a12\",\"#8e0912\",\"#8c0912\",\"#8a0812\",\"#880811\",\"#860811\",\"#840711\",\"#820711\",\"#800610\",\"#7e0610\",\"#7c0510\",\"#7a0510\",\"#79040f\",\"#77040f\",\"#75030f\",\"#73030f\",\"#71020e\",\"#6f020e\",\"#6d010e\",\"#6b010e\",\"#69000d\",\"#67000d\"]},\"id\":\"1525\",\"type\":\"LinearColorMapper\"},{\"attributes\":{\"callback\":null,\"renderers\":[{\"id\":\"1533\"}],\"tags\":[\"hv_created\"],\"tooltips\":[[\"index.hour\",\"@{index_full_stop_hour}\"],[\"index.dayofweek\",\"@{index_full_stop_dayofweek}\"],[\"volume\",\"@{volume}\"]]},\"id\":\"1494\",\"type\":\"HoverTool\"},{\"attributes\":{\"margin\":[5,5,5,5],\"name\":\"HSpacer02327\",\"sizing_mode\":\"stretch_width\"},\"id\":\"1565\",\"type\":\"Spacer\"},{\"attributes\":{\"margin\":[5,5,5,5],\"name\":\"HSpacer02326\",\"sizing_mode\":\"stretch_width\"},\"id\":\"1491\",\"type\":\"Spacer\"},{\"attributes\":{},\"id\":\"1502\",\"type\":\"LinearScale\"},{\"attributes\":{\"coordinates\":null,\"data_source\":{\"id\":\"1526\"},\"glyph\":{\"id\":\"1529\"},\"group\":null,\"hover_glyph\":null,\"muted_glyph\":{\"id\":\"1532\"},\"nonselection_glyph\":{\"id\":\"1530\"},\"selection_glyph\":{\"id\":\"1531\"},\"view\":{\"id\":\"1534\"}},\"id\":\"1533\",\"type\":\"GlyphRenderer\"},{\"attributes\":{\"end\":4.5,\"reset_end\":4.5,\"reset_start\":-0.5,\"start\":-0.5,\"tags\":[[[\"index.dayofweek\",\"index.dayofweek\",null]]]},\"id\":\"1493\",\"type\":\"Range1d\"},{\"attributes\":{},\"id\":\"1513\",\"type\":\"PanTool\"},{\"attributes\":{},\"id\":\"1541\",\"type\":\"BasicTickFormatter\"},{\"attributes\":{\"below\":[{\"id\":\"1504\"}],\"center\":[{\"id\":\"1507\"},{\"id\":\"1511\"}],\"height\":300,\"left\":[{\"id\":\"1508\"}],\"margin\":[5,5,5,5],\"min_border_bottom\":10,\"min_border_left\":10,\"min_border_right\":10,\"min_border_top\":10,\"renderers\":[{\"id\":\"1533\"}],\"right\":[{\"id\":\"1536\"}],\"sizing_mode\":\"fixed\",\"title\":{\"id\":\"1496\"},\"toolbar\":{\"id\":\"1518\"},\"width\":700,\"x_range\":{\"id\":\"1492\"},\"x_scale\":{\"id\":\"1500\"},\"y_range\":{\"id\":\"1493\"},\"y_scale\":{\"id\":\"1502\"}},\"id\":\"1495\",\"subtype\":\"Figure\",\"type\":\"Plot\"},{\"attributes\":{\"tools\":[{\"id\":\"1494\"},{\"id\":\"1512\"},{\"id\":\"1513\"},{\"id\":\"1514\"},{\"id\":\"1515\"},{\"id\":\"1516\"}]},\"id\":\"1518\",\"type\":\"Toolbar\"},{\"attributes\":{},\"id\":\"1551\",\"type\":\"UnionRenderers\"},{\"attributes\":{\"axis_label\":\"index.hour\",\"coordinates\":null,\"formatter\":{\"id\":\"1538\"},\"group\":null,\"major_label_policy\":{\"id\":\"1539\"},\"ticker\":{\"id\":\"1505\"}},\"id\":\"1504\",\"type\":\"LinearAxis\"},{\"attributes\":{\"bottom_units\":\"screen\",\"coordinates\":null,\"fill_alpha\":0.5,\"fill_color\":\"lightgrey\",\"group\":null,\"left_units\":\"screen\",\"level\":\"overlay\",\"line_alpha\":1.0,\"line_color\":\"black\",\"line_dash\":[4,4],\"line_width\":2,\"right_units\":\"screen\",\"syncable\":false,\"top_units\":\"screen\"},\"id\":\"1517\",\"type\":\"BoxAnnotation\"},{\"attributes\":{\"end\":14.5,\"reset_end\":14.5,\"reset_start\":7.5,\"start\":7.5,\"tags\":[[[\"index.hour\",\"index.hour\",null]]]},\"id\":\"1492\",\"type\":\"Range1d\"},{\"attributes\":{\"fill_alpha\":{\"value\":0.2},\"fill_color\":{\"field\":\"zvalues\",\"transform\":{\"id\":\"1525\"}},\"hatch_alpha\":{\"value\":0.2},\"height\":{\"field\":\"height\"},\"line_alpha\":{\"value\":0},\"line_color\":{\"value\":\"#1f77b4\"},\"width\":{\"field\":\"width\"},\"x\":{\"field\":\"index_full_stop_hour\"},\"y\":{\"field\":\"index_full_stop_dayofweek\"}},\"id\":\"1532\",\"type\":\"Rect\"},{\"attributes\":{\"axis_label\":\"index.dayofweek\",\"coordinates\":null,\"formatter\":{\"id\":\"1541\"},\"group\":null,\"major_label_policy\":{\"id\":\"1542\"},\"ticker\":{\"id\":\"1509\"}},\"id\":\"1508\",\"type\":\"LinearAxis\"},{\"attributes\":{},\"id\":\"1535\",\"type\":\"BasicTicker\"},{\"attributes\":{\"data\":{\"height\":{\"__ndarray__\":\"AAAAAAAA8D8AAAAAAADwPwAAAAAAAPA/AAAAAAAA8D8AAAAAAADwPwAAAAAAAPA/AAAAAAAA8D8AAAAAAADwPwAAAAAAAPA/AAAAAAAA8D8AAAAAAADwPwAAAAAAAPA/AAAAAAAA8D8AAAAAAADwPwAAAAAAAPA/AAAAAAAA8D8AAAAAAADwPwAAAAAAAPA/AAAAAAAA8D8AAAAAAADwPwAAAAAAAPA/AAAAAAAA8D8AAAAAAADwPwAAAAAAAPA/AAAAAAAA8D8AAAAAAADwPwAAAAAAAPA/AAAAAAAA8D8AAAAAAADwPwAAAAAAAPA/AAAAAAAA8D8AAAAAAADwPwAAAAAAAPA/AAAAAAAA8D8AAAAAAADwPw==\",\"dtype\":\"float64\",\"order\":\"little\",\"shape\":[35]},\"index_full_stop_dayofweek\":[0,1,2,3,4,0,1,2,3,4,0,1,2,3,4,0,1,2,3,4,0,1,2,3,4,0,1,2,3,4,0,1,2,3,4],\"index_full_stop_hour\":[8,8,8,8,8,9,9,9,9,9,10,10,10,10,10,11,11,11,11,11,12,12,12,12,12,13,13,13,13,13,14,14,14,14,14],\"volume\":[\"75920\",\"74378\",\"74825\",\"80537\",\"78525\",\"95958\",\"97370\",\"91873\",\"1.1208e+05\",\"1.0158e+05\",\"74923\",\"74283\",\"74983\",\"86712\",\"83229\",\"58818\",\"56862\",\"64232\",\"75927\",\"69881\",\"55549\",\"51732\",\"58738\",\"72635\",\"62498\",\"70917\",\"71044\",\"86906\",\"80192\",\"78615\",\"1.7619e+05\",\"1.7559e+05\",\"1.8415e+05\",\"1.8157e+05\",\"1.9195e+05\"],\"width\":{\"__ndarray__\":\"AAAAAAAA8D8AAAAAAADwPwAAAAAAAPA/AAAAAAAA8D8AAAAAAADwPwAAAAAAAPA/AAAAAAAA8D8AAAAAAADwPwAAAAAAAPA/AAAAAAAA8D8AAAAAAADwPwAAAAAAAPA/AAAAAAAA8D8AAAAAAADwPwAAAAAAAPA/AAAAAAAA8D8AAAAAAADwPwAAAAAAAPA/AAAAAAAA8D8AAAAAAADwPwAAAAAAAPA/AAAAAAAA8D8AAAAAAADwPwAAAAAAAPA/AAAAAAAA8D8AAAAAAADwPwAAAAAAAPA/AAAAAAAA8D8AAAAAAADwPwAAAAAAAPA/AAAAAAAA8D8AAAAAAADwPwAAAAAAAPA/AAAAAAAA8D8AAAAAAADwPw==\",\"dtype\":\"float64\",\"order\":\"little\",\"shape\":[35]},\"zvalues\":{\"__ndarray__\":\"5DiO4/iI8kA8G/WdnSjyQJlcQUyORPJAiMkVxJSp80DpoosuyivzQPqkT/pkbfdAmVxBTJ7F90CIyRXEFG72QBbE5AqyXPtAAAAAAAzN+ECUPumTrkryQIjJFcS0IvJAz0Z9Z3NO8kBt1Hc2eiv1QKOLLrrIUfRAP+mTPkm47EDaqO9stMPrQCyIyRUEXe9Av7NR32mJ8kB00UUXiQ/xQBdswRasH+tAo76zUX9C6UAhJlcQM67sQGQhC1mou/FAAAAAAECE7kBswRZsUVDxQK4gJldAWPFAVxCTK5g39UAhC1nI+pPzQJU1ZU1pMfNAd3d3d++BBUH1nY36Tm8FQc9GfWe7egZBetOb3hAqBkH6gr6gj24HQQ==\",\"dtype\":\"float64\",\"order\":\"little\",\"shape\":[35]}},\"selected\":{\"id\":\"1527\"},\"selection_policy\":{\"id\":\"1551\"}},\"id\":\"1526\",\"type\":\"ColumnDataSource\"},{\"attributes\":{},\"id\":\"1509\",\"type\":\"BasicTicker\"},{\"attributes\":{},\"id\":\"1542\",\"type\":\"AllLabels\"},{\"attributes\":{},\"id\":\"1514\",\"type\":\"WheelZoomTool\"},{\"attributes\":{\"children\":[{\"id\":\"1491\"},{\"id\":\"1495\"},{\"id\":\"1565\"}],\"margin\":[0,0,0,0],\"name\":\"Row02322\",\"tags\":[\"embedded\"]},\"id\":\"1490\",\"type\":\"Row\"},{\"attributes\":{\"bar_line_color\":\"black\",\"color_mapper\":{\"id\":\"1525\"},\"coordinates\":null,\"group\":null,\"label_standoff\":8,\"location\":[0,0],\"major_label_policy\":{\"id\":\"1547\"},\"major_tick_line_color\":\"black\",\"ticker\":{\"id\":\"1535\"}},\"id\":\"1536\",\"type\":\"ColorBar\"},{\"attributes\":{\"axis\":{\"id\":\"1508\"},\"coordinates\":null,\"dimension\":1,\"grid_line_color\":null,\"group\":null,\"ticker\":null},\"id\":\"1511\",\"type\":\"Grid\"},{\"attributes\":{\"source\":{\"id\":\"1526\"}},\"id\":\"1534\",\"type\":\"CDSView\"},{\"attributes\":{},\"id\":\"1547\",\"type\":\"NoOverlap\"},{\"attributes\":{},\"id\":\"1505\",\"type\":\"BasicTicker\"},{\"attributes\":{},\"id\":\"1500\",\"type\":\"LinearScale\"},{\"attributes\":{},\"id\":\"1527\",\"type\":\"Selection\"},{\"attributes\":{},\"id\":\"1539\",\"type\":\"AllLabels\"},{\"attributes\":{},\"id\":\"1538\",\"type\":\"BasicTickFormatter\"},{\"attributes\":{\"overlay\":{\"id\":\"1517\"}},\"id\":\"1515\",\"type\":\"BoxZoomTool\"},{\"attributes\":{\"fill_color\":{\"field\":\"zvalues\",\"transform\":{\"id\":\"1525\"}},\"height\":{\"field\":\"height\"},\"line_alpha\":{\"value\":0},\"line_color\":{\"value\":\"#1f77b4\"},\"width\":{\"field\":\"width\"},\"x\":{\"field\":\"index_full_stop_hour\"},\"y\":{\"field\":\"index_full_stop_dayofweek\"}},\"id\":\"1531\",\"type\":\"Rect\"},{\"attributes\":{},\"id\":\"1512\",\"type\":\"SaveTool\"},{\"attributes\":{\"fill_alpha\":{\"value\":0.1},\"fill_color\":{\"field\":\"zvalues\",\"transform\":{\"id\":\"1525\"}},\"hatch_alpha\":{\"value\":0.1},\"height\":{\"field\":\"height\"},\"line_alpha\":{\"value\":0},\"line_color\":{\"value\":\"#1f77b4\"},\"width\":{\"field\":\"width\"},\"x\":{\"field\":\"index_full_stop_hour\"},\"y\":{\"field\":\"index_full_stop_dayofweek\"}},\"id\":\"1530\",\"type\":\"Rect\"},{\"attributes\":{},\"id\":\"1516\",\"type\":\"ResetTool\"},{\"attributes\":{\"fill_color\":{\"field\":\"zvalues\",\"transform\":{\"id\":\"1525\"}},\"height\":{\"field\":\"height\"},\"line_alpha\":{\"value\":0},\"line_color\":{\"value\":\"#1f77b4\"},\"width\":{\"field\":\"width\"},\"x\":{\"field\":\"index_full_stop_hour\"},\"y\":{\"field\":\"index_full_stop_dayofweek\"}},\"id\":\"1529\",\"type\":\"Rect\"},{\"attributes\":{\"coordinates\":null,\"group\":null,\"text_color\":\"black\",\"text_font_size\":\"12pt\"},\"id\":\"1496\",\"type\":\"Title\"}],\"root_ids\":[\"1490\"]},\"title\":\"Bokeh Application\",\"version\":\"2.4.2\"}};\n",
       "    var render_items = [{\"docid\":\"5348a282-665b-42f2-954e-bc9d84a65ef9\",\"root_ids\":[\"1490\"],\"roots\":{\"1490\":\"9a70136a-d452-42e8-9cea-032a76f7cc74\"}}];\n",
       "    root.Bokeh.embed.embed_items_notebook(docs_json, render_items);\n",
       "  }\n",
       "  if (root.Bokeh !== undefined && root.Bokeh.Panel !== undefined) {\n",
       "    embed_document(root);\n",
       "  } else {\n",
       "    var attempts = 0;\n",
       "    var timer = setInterval(function(root) {\n",
       "      if (root.Bokeh !== undefined && root.Bokeh.Panel !== undefined) {\n",
       "        clearInterval(timer);\n",
       "        embed_document(root);\n",
       "      } else if (document.readyState == \"complete\") {\n",
       "        attempts++;\n",
       "        if (attempts > 200) {\n",
       "          clearInterval(timer);\n",
       "          console.log(\"Bokeh: ERROR: Unable to run BokehJS code because BokehJS library is missing\");\n",
       "        }\n",
       "      }\n",
       "    }, 25, root)\n",
       "  }\n",
       "})(window);</script>"
      ],
      "text/plain": [
       ":HeatMap   [index.hour,index.dayofweek]   (volume)"
      ]
     },
     "execution_count": 14,
     "metadata": {
      "application/vnd.holoviews_exec.v0+json": {
       "id": "1490"
      }
     },
     "output_type": "execute_result"
    }
   ],
   "source": [
    "# Use hvPlot to visualize the hourly trends across days of week in a heatmap\n",
    "sp500_volume.hvplot.heatmap(\n",
    "    x='index.hour',\n",
    "    y='index.dayofweek',\n",
    "    C='volume',\n",
    "    cmap='reds'\n",
    ").aggregate(function=np.mean)"
   ]
  },
  {
   "cell_type": "markdown",
   "metadata": {},
   "source": [
    "## 5. Create a plot with hvPlot that shows the data grouped by the calendar week in the year (week of year)."
   ]
  },
  {
   "cell_type": "code",
   "execution_count": 26,
   "metadata": {},
   "outputs": [
    {
     "data": {},
     "metadata": {},
     "output_type": "display_data"
    },
    {
     "data": {
      "application/vnd.holoviews_exec.v0+json": "",
      "text/html": [
       "<div id='2354'>\n",
       "\n",
       "\n",
       "\n",
       "\n",
       "\n",
       "  <div class=\"bk-root\" id=\"b5c27b1e-77c1-4421-a1f5-95c98b5b3ef0\" data-root-id=\"2354\"></div>\n",
       "</div>\n",
       "<script type=\"application/javascript\">(function(root) {\n",
       "  function embed_document(root) {\n",
       "    var docs_json = {\"c37540ff-a001-483f-afdf-a89c9212b330\":{\"defs\":[{\"extends\":null,\"module\":null,\"name\":\"ReactiveHTML1\",\"overrides\":[],\"properties\":[]},{\"extends\":null,\"module\":null,\"name\":\"FlexBox1\",\"overrides\":[],\"properties\":[{\"default\":\"flex-start\",\"kind\":null,\"name\":\"align_content\"},{\"default\":\"flex-start\",\"kind\":null,\"name\":\"align_items\"},{\"default\":\"row\",\"kind\":null,\"name\":\"flex_direction\"},{\"default\":\"wrap\",\"kind\":null,\"name\":\"flex_wrap\"},{\"default\":\"flex-start\",\"kind\":null,\"name\":\"justify_content\"}]},{\"extends\":null,\"module\":null,\"name\":\"GridStack1\",\"overrides\":[],\"properties\":[{\"default\":\"warn\",\"kind\":null,\"name\":\"mode\"},{\"default\":null,\"kind\":null,\"name\":\"ncols\"},{\"default\":null,\"kind\":null,\"name\":\"nrows\"},{\"default\":true,\"kind\":null,\"name\":\"allow_resize\"},{\"default\":true,\"kind\":null,\"name\":\"allow_drag\"},{\"default\":[],\"kind\":null,\"name\":\"state\"}]},{\"extends\":null,\"module\":null,\"name\":\"click1\",\"overrides\":[],\"properties\":[{\"default\":\"\",\"kind\":null,\"name\":\"terminal_output\"},{\"default\":\"\",\"kind\":null,\"name\":\"debug_name\"},{\"default\":0,\"kind\":null,\"name\":\"clears\"}]},{\"extends\":null,\"module\":null,\"name\":\"TemplateActions1\",\"overrides\":[],\"properties\":[{\"default\":0,\"kind\":null,\"name\":\"open_modal\"},{\"default\":0,\"kind\":null,\"name\":\"close_modal\"}]},{\"extends\":null,\"module\":null,\"name\":\"MaterialTemplateActions1\",\"overrides\":[],\"properties\":[{\"default\":0,\"kind\":null,\"name\":\"open_modal\"},{\"default\":0,\"kind\":null,\"name\":\"close_modal\"}]}],\"roots\":{\"references\":[{\"attributes\":{},\"id\":\"2364\",\"type\":\"LinearScale\"},{\"attributes\":{\"callback\":null,\"renderers\":[{\"id\":\"2395\"}],\"tags\":[\"hv_created\"],\"tooltips\":[[\"week\",\"@{week}\"],[\"volume\",\"@{volume}\"]]},\"id\":\"2358\",\"type\":\"HoverTool\"},{\"attributes\":{\"margin\":[5,5,5,5],\"name\":\"HSpacer03587\",\"sizing_mode\":\"stretch_width\"},\"id\":\"2424\",\"type\":\"Spacer\"},{\"attributes\":{},\"id\":\"2366\",\"type\":\"LinearScale\"},{\"attributes\":{},\"id\":\"2411\",\"type\":\"UnionRenderers\"},{\"attributes\":{},\"id\":\"2399\",\"type\":\"BasicTickFormatter\"},{\"attributes\":{\"axis\":{\"id\":\"2368\"},\"coordinates\":null,\"grid_line_color\":null,\"group\":null,\"ticker\":null},\"id\":\"2371\",\"type\":\"Grid\"},{\"attributes\":{\"data\":{\"volume\":{\"__ndarray__\":\"ZmZmZga980DjK77ii6npQG7btm17z+VA4yu+4suE9UBJkiRJUm3pQEmSJElSoOFAJUmSJPdWFUH5iq/4lqYRQYQ6qIM6WQ5BhDqog/KkA0EAAAAAepIGQeqgDurQ0f5A6qAO6vA2+kAAAAAAEJX7QDMzMzPD4fNAO6iDOpjK+0AlSZIkKVD1QG7btm2v+vhAsPiKr0hG9UDNzMzMvN0AQfmKr/iKH/xAhDqogzpG+UBJkiRJGkT0QLdt27Ytl/FAB3VQBzUE9EBJkiRJclXvQFh8xVd8K+xAO6iDOigv50DjK77iS3XoQJqZmZmZ0OVAoQ7qoG6B50D5iq/4imD3QJIkSZKwYPdAJUmSJAkj8kBmZmZmRiv0QL7iK75SJPJALL7iK5517UCw+Iqv2JruQHzFV3zlYe5AD+qgDgpH+EBCHdRB3dz1QGZmZmYWW/RAUAd1UKdO7UCPwvUoHB3pQPEVX/F1f+tAHdRBHTTx6EDjK77iKyDrQPYoXI/C8OpA27Zt2xZj5kA=\",\"dtype\":\"float64\",\"order\":\"little\",\"shape\":[49]},\"week\":[1,2,3,4,5,6,11,12,13,14,15,16,17,18,19,20,21,22,23,24,25,26,27,28,29,30,31,32,33,34,35,36,37,38,39,40,41,42,43,44,45,46,47,48,49,50,51,52,53]},\"selected\":{\"id\":\"2390\"},\"selection_policy\":{\"id\":\"2411\"}},\"id\":\"2389\",\"type\":\"ColumnDataSource\"},{\"attributes\":{\"children\":[{\"id\":\"2355\"},{\"id\":\"2359\"},{\"id\":\"2424\"}],\"margin\":[0,0,0,0],\"name\":\"Row03582\",\"tags\":[\"embedded\"]},\"id\":\"2354\",\"type\":\"Row\"},{\"attributes\":{\"axis_label\":\"week\",\"coordinates\":null,\"formatter\":{\"id\":\"2399\"},\"group\":null,\"major_label_policy\":{\"id\":\"2400\"},\"ticker\":{\"id\":\"2369\"}},\"id\":\"2368\",\"type\":\"LinearAxis\"},{\"attributes\":{\"coordinates\":null,\"group\":null,\"text\":\"volume\",\"text_color\":\"black\",\"text_font_size\":\"12pt\"},\"id\":\"2360\",\"type\":\"Title\"},{\"attributes\":{\"bottom_units\":\"screen\",\"coordinates\":null,\"fill_alpha\":0.5,\"fill_color\":\"lightgrey\",\"group\":null,\"left_units\":\"screen\",\"level\":\"overlay\",\"line_alpha\":1.0,\"line_color\":\"black\",\"line_dash\":[4,4],\"line_width\":2,\"right_units\":\"screen\",\"syncable\":false,\"top_units\":\"screen\"},\"id\":\"2381\",\"type\":\"BoxAnnotation\"},{\"attributes\":{},\"id\":\"2369\",\"type\":\"BasicTicker\"},{\"attributes\":{\"axis\":{\"id\":\"2372\"},\"coordinates\":null,\"dimension\":1,\"grid_line_color\":null,\"group\":null,\"ticker\":null},\"id\":\"2375\",\"type\":\"Grid\"},{\"attributes\":{\"tools\":[{\"id\":\"2358\"},{\"id\":\"2376\"},{\"id\":\"2377\"},{\"id\":\"2378\"},{\"id\":\"2379\"},{\"id\":\"2380\"}]},\"id\":\"2382\",\"type\":\"Toolbar\"},{\"attributes\":{},\"id\":\"2377\",\"type\":\"PanTool\"},{\"attributes\":{\"line_alpha\":0.1,\"line_color\":\"#30a2da\",\"line_width\":2,\"x\":{\"field\":\"week\"},\"y\":{\"field\":\"volume\"}},\"id\":\"2393\",\"type\":\"Line\"},{\"attributes\":{\"axis_label\":\"\",\"coordinates\":null,\"formatter\":{\"id\":\"2402\"},\"group\":null,\"major_label_policy\":{\"id\":\"2403\"},\"ticker\":{\"id\":\"2373\"}},\"id\":\"2372\",\"type\":\"LinearAxis\"},{\"attributes\":{},\"id\":\"2390\",\"type\":\"Selection\"},{\"attributes\":{},\"id\":\"2373\",\"type\":\"BasicTicker\"},{\"attributes\":{\"source\":{\"id\":\"2389\"}},\"id\":\"2396\",\"type\":\"CDSView\"},{\"attributes\":{},\"id\":\"2378\",\"type\":\"WheelZoomTool\"},{\"attributes\":{\"line_alpha\":0.2,\"line_color\":\"#30a2da\",\"line_width\":2,\"x\":{\"field\":\"week\"},\"y\":{\"field\":\"volume\"}},\"id\":\"2394\",\"type\":\"Line\"},{\"attributes\":{},\"id\":\"2376\",\"type\":\"SaveTool\"},{\"attributes\":{\"below\":[{\"id\":\"2368\"}],\"center\":[{\"id\":\"2371\"},{\"id\":\"2375\"}],\"height\":300,\"left\":[{\"id\":\"2372\"}],\"margin\":[5,5,5,5],\"min_border_bottom\":10,\"min_border_left\":10,\"min_border_right\":10,\"min_border_top\":10,\"renderers\":[{\"id\":\"2395\"}],\"sizing_mode\":\"fixed\",\"title\":{\"id\":\"2360\"},\"toolbar\":{\"id\":\"2382\"},\"width\":700,\"x_range\":{\"id\":\"2356\"},\"x_scale\":{\"id\":\"2364\"},\"y_range\":{\"id\":\"2357\"},\"y_scale\":{\"id\":\"2366\"}},\"id\":\"2359\",\"subtype\":\"Figure\",\"type\":\"Plot\"},{\"attributes\":{\"line_color\":\"#30a2da\",\"line_width\":2,\"x\":{\"field\":\"week\"},\"y\":{\"field\":\"volume\"}},\"id\":\"2397\",\"type\":\"Line\"},{\"attributes\":{\"overlay\":{\"id\":\"2381\"}},\"id\":\"2379\",\"type\":\"BoxZoomTool\"},{\"attributes\":{\"coordinates\":null,\"data_source\":{\"id\":\"2389\"},\"glyph\":{\"id\":\"2392\"},\"group\":null,\"hover_glyph\":null,\"muted_glyph\":{\"id\":\"2394\"},\"nonselection_glyph\":{\"id\":\"2393\"},\"selection_glyph\":{\"id\":\"2397\"},\"view\":{\"id\":\"2396\"}},\"id\":\"2395\",\"type\":\"GlyphRenderer\"},{\"attributes\":{},\"id\":\"2380\",\"type\":\"ResetTool\"},{\"attributes\":{},\"id\":\"2400\",\"type\":\"AllLabels\"},{\"attributes\":{},\"id\":\"2402\",\"type\":\"BasicTickFormatter\"},{\"attributes\":{\"end\":380982.90714285715,\"reset_end\":380982.90714285715,\"reset_start\":4745.449999999993,\"start\":4745.449999999993,\"tags\":[[[\"volume\",\"volume\",null]]]},\"id\":\"2357\",\"type\":\"Range1d\"},{\"attributes\":{\"margin\":[5,5,5,5],\"name\":\"HSpacer03586\",\"sizing_mode\":\"stretch_width\"},\"id\":\"2355\",\"type\":\"Spacer\"},{\"attributes\":{\"end\":53.0,\"reset_end\":53.0,\"reset_start\":1.0,\"start\":1.0,\"tags\":[[[\"week\",\"week\",null]]]},\"id\":\"2356\",\"type\":\"Range1d\"},{\"attributes\":{},\"id\":\"2403\",\"type\":\"AllLabels\"},{\"attributes\":{\"line_color\":\"#30a2da\",\"line_width\":2,\"x\":{\"field\":\"week\"},\"y\":{\"field\":\"volume\"}},\"id\":\"2392\",\"type\":\"Line\"}],\"root_ids\":[\"2354\"]},\"title\":\"Bokeh Application\",\"version\":\"2.4.2\"}};\n",
       "    var render_items = [{\"docid\":\"c37540ff-a001-483f-afdf-a89c9212b330\",\"root_ids\":[\"2354\"],\"roots\":{\"2354\":\"b5c27b1e-77c1-4421-a1f5-95c98b5b3ef0\"}}];\n",
       "    root.Bokeh.embed.embed_items_notebook(docs_json, render_items);\n",
       "  }\n",
       "  if (root.Bokeh !== undefined && root.Bokeh.Panel !== undefined) {\n",
       "    embed_document(root);\n",
       "  } else {\n",
       "    var attempts = 0;\n",
       "    var timer = setInterval(function(root) {\n",
       "      if (root.Bokeh !== undefined && root.Bokeh.Panel !== undefined) {\n",
       "        clearInterval(timer);\n",
       "        embed_document(root);\n",
       "      } else if (document.readyState == \"complete\") {\n",
       "        attempts++;\n",
       "        if (attempts > 200) {\n",
       "          clearInterval(timer);\n",
       "          console.log(\"Bokeh: ERROR: Unable to run BokehJS code because BokehJS library is missing\");\n",
       "        }\n",
       "      }\n",
       "    }, 25, root)\n",
       "  }\n",
       "})(window);</script>"
      ],
      "text/plain": [
       ":Curve   [week]   (volume)"
      ]
     },
     "execution_count": 26,
     "metadata": {
      "application/vnd.holoviews_exec.v0+json": {
       "id": "2354"
      }
     },
     "output_type": "execute_result"
    }
   ],
   "source": [
    "# Group the data by the calendar week in the year (week of year). \n",
    "sp500_volume.groupby(sp500_volume.index.isocalendar().week).mean().hvplot()"
   ]
  }
 ],
 "metadata": {
  "kernelspec": {
   "display_name": "Python 3 (ipykernel)",
   "language": "python",
   "name": "python3"
  },
  "language_info": {
   "codemirror_mode": {
    "name": "ipython",
    "version": 3
   },
   "file_extension": ".py",
   "mimetype": "text/x-python",
   "name": "python",
   "nbconvert_exporter": "python",
   "pygments_lexer": "ipython3",
   "version": "3.9.12"
  }
 },
 "nbformat": 4,
 "nbformat_minor": 4
}
